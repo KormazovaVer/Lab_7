{
  "cells": [
    {
      "cell_type": "markdown",
      "metadata": {
        "pycharm": {
          "name": "#%% md\n"
        },
        "id": "Zgoi8i6plWlO"
      },
      "source": [
        "### О ЛР:\n",
        "\n",
        "- Coding Gradient boosting\n",
        "\n",
        "----\n",
        "\n",
        "#### Самостоятельная оценка результатов\n",
        "\n",
        "Для удобства проверки, исходя из набора решенных задач, посчитайте свою максимальную оценку (Она тут равняется 6).\n",
        "\n",
        "**Оценка**: 6\n",
        "\n",
        "***DeadLine - 28.05.2024 23:59***\n",
        "\n",
        "### Формат сдачи\n",
        "Задания сдаются через lms. Вы прикрепляете **ССЫЛКУ НА ПУБЛИЧНЫЙ РЕПОЗИТОРИЙ**, где выполнено ваше задание. Иначе задание не проверяется."
      ]
    },
    {
      "cell_type": "code",
      "execution_count": 1,
      "metadata": {
        "pycharm": {
          "name": "#%%\n"
        },
        "id": "1XDUNTn4lWlP"
      },
      "outputs": [],
      "source": [
        "from warnings import filterwarnings\n",
        "\n",
        "import matplotlib.pyplot as plt\n",
        "import numpy as np\n",
        "import seaborn as sns\n",
        "from scipy.sparse import load_npz\n",
        "from sklearn.model_selection import train_test_split\n",
        "\n",
        "\n",
        "sns.set(style=\"darkgrid\")\n",
        "filterwarnings(\"ignore\")"
      ]
    },
    {
      "cell_type": "code",
      "execution_count": 2,
      "metadata": {
        "pycharm": {
          "name": "#%%\n"
        },
        "id": "yvolL0KvlWlQ"
      },
      "outputs": [],
      "source": [
        "x = load_npz(\"x.npz\")\n",
        "y = np.load(\"y.npy\")"
      ]
    },
    {
      "cell_type": "markdown",
      "metadata": {
        "pycharm": {
          "name": "#%% md\n"
        },
        "id": "PRMjj9ZslWlQ"
      },
      "source": [
        "Разделим на обучающую, валидационную и тестовую выборки (`random_state` оставьте равным 666 для воспроизводимости)."
      ]
    },
    {
      "cell_type": "code",
      "execution_count": 3,
      "metadata": {
        "pycharm": {
          "name": "#%%\n"
        },
        "id": "Hme6Cf0HlWlR",
        "colab": {
          "base_uri": "https://localhost:8080/"
        },
        "outputId": "4c4c6080-d24b-4d2a-a7e8-518a93e6ab0a"
      },
      "outputs": [
        {
          "output_type": "execute_result",
          "data": {
            "text/plain": [
              "((18825, 169), (2354, 169), (2353, 169))"
            ]
          },
          "metadata": {},
          "execution_count": 3
        }
      ],
      "source": [
        "x_train, x_test, y_train, y_test = train_test_split(\n",
        "    x, y, test_size=0.2, random_state=666\n",
        ")\n",
        "\n",
        "x_test, x_valid, y_test, y_valid = train_test_split(\n",
        "    x_test, y_test, test_size=0.5, random_state=666\n",
        ")\n",
        "\n",
        "x_train.shape, x_valid.shape, x_test.shape\n"
      ]
    },
    {
      "cell_type": "markdown",
      "metadata": {
        "pycharm": {
          "name": "#%% md\n"
        },
        "id": "tHaBuXarlWlR"
      },
      "source": [
        "## Задание 1. Реализация градиентного бустинга [2 балла]\n",
        "\n",
        "Необходимо дописать код в файле `boosting.py`. Уже создан шаблон класса `Boosting`, который можно модифицировать по своему усмотрению.\n",
        "\n",
        "### Описание функций:\n",
        "\n",
        "#### `__init__`\n",
        "\n",
        "Конструктор класса принимает следующие параметры:\n",
        "\n",
        "- `base_model_class` — класс базовой модели для бустинга.\n",
        "- `base_model_params` — словарь гиперпараметров для базовой модели.\n",
        "- `n_estimators` — количество базовых моделей для обучения.\n",
        "- `learning_rate` — темп обучения, должен быть в диапазоне (0, 1].\n",
        "- `subsample` — доля обучающей выборки для тренировки базовой модели (размер бутстрап-выборки относительно исходной).\n",
        "- `early_stopping_rounds` — число итераций без улучшения на валидационной выборке, после которых обучение прекращается.\n",
        "- `plot` — флаг для построения графика качества моделей после обучения.\n",
        "\n",
        "#### `fit`\n",
        "\n",
        "Метод `fit` принимает обучающую и валидационную выборки.\n",
        "\n",
        "1. Инициализируем нулевую модель и делаем предсказания (например, все нули) для обеих выборок.\n",
        "2. Обучаем `n_estimators` базовых моделей:\n",
        "   - Обучаем новую базовую модель на текущих остатках.\n",
        "   - Обновляем предсказания на обучающей и валидационной выборках.\n",
        "   - Рассчитываем ошибки на обеих выборках с помощью `loss_fn`.\n",
        "   - Проверяем условия для ранней остановки.\n",
        "\n",
        "3. Если флаг `plot` установлен, строим график качества после обучения всех моделей.\n",
        "\n",
        "#### `fit_new_base_model`\n",
        "\n",
        "Метод `fit_new_base_model` принимает обучающую выборку и текущие предсказания для неё.\n",
        "\n",
        "1. Генерируем бутстрап-выборку.\n",
        "2. Обучаем базовую модель на этой выборке.\n",
        "3. Оптимизируем значение гаммы.\n",
        "4. Добавляем новую базовую модель и гамму в соответствующие списки (учитывая `learning_rate`).\n",
        "\n",
        "#### `predict_proba`\n",
        "\n",
        "Метод `predict_proba` принимает выборку для предсказания вероятностей.\n",
        "\n",
        "1. Суммируем предсказания базовых моделей (учитывая гамму и `learning_rate`).\n",
        "2. Применяем сигмоидальную функцию для получения вероятностей."
      ]
    },
    {
      "cell_type": "code",
      "source": [
        "from __future__ import annotations\n",
        "\n",
        "from collections import defaultdict\n",
        "\n",
        "import numpy as np\n",
        "from sklearn.metrics import roc_auc_score\n",
        "from sklearn.tree import DecisionTreeRegressor\n",
        "\n",
        "class Boosting:\n",
        "    def __init__(\n",
        "        self,\n",
        "        base_model_params: dict = None,\n",
        "        n_estimators: int = 10,\n",
        "        learning_rate: float = 0.1,\n",
        "        subsample: float = 0.3,\n",
        "        early_stopping_rounds: int = None,\n",
        "        plot: bool = False,\n",
        "    ):\n",
        "        self.base_model_class = DecisionTreeRegressor\n",
        "        self.base_model_params: dict = {} if base_model_params is None else base_model_params\n",
        "        self.n_estimators: int = n_estimators\n",
        "\n",
        "        self.models: list = []\n",
        "        self.gammas: list = []\n",
        "\n",
        "        self.learning_rate: float = learning_rate\n",
        "        self.subsample: float = subsample\n",
        "\n",
        "        self.early_stopping_rounds: int = early_stopping_rounds\n",
        "        if early_stopping_rounds is not None:\n",
        "            self.validation_loss = np.full(self.early_stopping_rounds, np.inf)\n",
        "        self.plot: bool = plot\n",
        "        self.history = defaultdict(list)\n",
        "        self.sigmoid = lambda x: 1 / (1 + np.exp(-x))\n",
        "        self.loss_fn = lambda y, z: -np.log(self.sigmoid(y * z)).mean()\n",
        "        self.loss_derivative = lambda y, z: -y * self.sigmoid(-y * z)\n",
        "\n",
        "    def fit_new_base_model(self, x, y, predictions):\n",
        "        bootstrap_indices = np.random.choice(np.arange(x.shape[0]), size=int(self.subsample * x.shape[0]))\n",
        "        x_sample = x[bootstrap_indices]\n",
        "        y_sample = y[bootstrap_indices]\n",
        "        model = self.base_model_class(**self.base_model_params)\n",
        "        model.fit(x_sample, self.loss_derivative(y_sample, predictions[bootstrap_indices]))\n",
        "        gamma = self.find_optimal_gamma(y_sample, predictions[bootstrap_indices], model.predict(x_sample))\n",
        "        self.gammas.append(gamma)\n",
        "        self.models.append(model)\n",
        "    def fit(self, x_train, y_train, x_valid, y_valid):\n",
        "        train_predictions = np.zeros(y_train.shape[0], dtype=float)[:, None]\n",
        "        valid_predictions = np.zeros(y_valid.shape[0], dtype=float)[:, None]\n",
        "        for _ in range(self.n_estimators):\n",
        "            self.fit_new_base_model(x_train, y_train, train_predictions[:, 0])\n",
        "            train_predictions += self.learning_rate * self.models[-1].predict(x_train)[:, None]\n",
        "            valid_predictions += self.learning_rate * self.models[-1].predict(x_valid)[:, None]\n",
        "            train_loss = self.loss_fn(y_train, train_predictions[:, 0])\n",
        "            valid_loss = self.loss_fn(y_valid, valid_predictions[:, 0])\n",
        "            self.history['train_loss'].append(train_loss)\n",
        "            self.history['valid_loss'].append(valid_loss)\n",
        "            if self.early_stopping_rounds is not None:\n",
        "                if len(self.history['valid_loss']) >= self.early_stopping_rounds and \\\n",
        "                        valid_loss > np.min(self.history['valid_loss'][-self.early_stopping_rounds:]):\n",
        "                    break\n",
        "        if self.plot:\n",
        "            import matplotlib.pyplot as plt\n",
        "            plt.plot(range(len(self.history['train_loss'])), self.history['train_loss'], label='Train')\n",
        "            plt.plot(range(len(self.history['valid_loss'])), self.history['valid_loss'], label='Valid')\n",
        "            plt.xlabel('Number of iterations')\n",
        "            plt.ylabel('Loss')\n",
        "            plt.legend()\n",
        "            plt.show()\n",
        "    def predict_proba(self, x):\n",
        "        predictions = np.zeros((x.shape[0], 2), dtype=float)\n",
        "        for model, gamma in zip(self.models, self.gammas):\n",
        "            predictions += gamma * model.predict(x)[:, None]\n",
        "        return self.sigmoid(predictions)\n",
        "    def find_optimal_gamma(self, y, old_predictions, new_predictions) -> float:\n",
        "        gammas = np.linspace(start=-1, stop=1, num=100)\n",
        "        losses = [self.loss_fn(y, old_predictions + gamma * new_predictions) for gamma in gammas]\n",
        "        return gammas[np.argmin(losses)]\n",
        "    def score(self, x, y):\n",
        "        return roc_auc_score(y, self.predict_proba(x)[:, 1])\n",
        "\n"
      ],
      "metadata": {
        "id": "LBjVDU4ElXZp"
      },
      "execution_count": 67,
      "outputs": []
    },
    {
      "cell_type": "code",
      "execution_count": 117,
      "metadata": {
        "pycharm": {
          "name": "#%%\n"
        },
        "id": "xh3nawbUlWlS",
        "colab": {
          "base_uri": "https://localhost:8080/"
        },
        "outputId": "753a4679-ac19-4db3-af72-2f44e06c8689"
      },
      "outputs": [
        {
          "output_type": "stream",
          "name": "stdout",
          "text": [
            "The autoreload extension is already loaded. To reload it, use:\n",
            "  %reload_ext autoreload\n"
          ]
        }
      ],
      "source": [
        "%load_ext autoreload"
      ]
    },
    {
      "cell_type": "code",
      "execution_count": 118,
      "metadata": {
        "pycharm": {
          "name": "#%%\n"
        },
        "id": "reqHbUEBlWlS"
      },
      "outputs": [],
      "source": [
        "%autoreload 2\n",
        "\n",
        "from boosting import Boosting"
      ]
    },
    {
      "cell_type": "markdown",
      "metadata": {
        "pycharm": {
          "name": "#%% md\n"
        },
        "id": "l7wWK5RplWlT"
      },
      "source": [
        "### Проверка кода\n",
        "\n",
        "У автора задания всё учится около одной секунды."
      ]
    },
    {
      "cell_type": "code",
      "execution_count": 5,
      "metadata": {
        "pycharm": {
          "name": "#%%\n"
        },
        "id": "00lZjzI3lWlT",
        "outputId": "5d234d34-8eae-4447-9562-96f0338b8af3",
        "colab": {
          "base_uri": "https://localhost:8080/"
        }
      },
      "outputs": [
        {
          "output_type": "stream",
          "name": "stdout",
          "text": [
            "CPU times: user 1.8 s, sys: 11 ms, total: 1.81 s\n",
            "Wall time: 2.3 s\n",
            "Train ROC-AUC 0.9842\n",
            "Valid ROC-AUC 0.9548\n",
            "Test ROC-AUC 0.9533\n"
          ]
        }
      ],
      "source": [
        "boosting = Boosting()\n",
        "\n",
        "%time boosting.fit(x_train, y_train, x_valid, y_valid)\n",
        "\n",
        "assert len(boosting.models) == boosting.n_estimators\n",
        "assert len(boosting.gammas) == boosting.n_estimators\n",
        "\n",
        "assert boosting.predict_proba(x_test).shape == (x_test.shape[0], 2)\n",
        "\n",
        "print(f'Train ROC-AUC {boosting.score(x_train, y_train):.4f}')\n",
        "print(f'Valid ROC-AUC {boosting.score(x_valid, y_valid):.4f}')\n",
        "print(f'Test ROC-AUC {boosting.score(x_test, y_test):.4f}')"
      ]
    },
    {
      "cell_type": "markdown",
      "metadata": {
        "pycharm": {
          "name": "#%% md\n"
        },
        "id": "MlU-c9CxlWlU"
      },
      "source": [
        "## Задание 2. Обучение градиентного бустинга [0.5 балла]\n",
        "\n",
        "Оцените качество вашей реализации градиентного бустинга на тестовой выборке, используя базовые модели — решающие деревья с различной максимальной глубиной. Метрикой будет ROC-AUC.\n",
        "\n",
        "**Инструкция:**\n",
        "1. Перебирайте значения максимальной глубины деревьев от 1 до 30 с шагом 2.\n",
        "2. Оставьте остальные параметры бустинга по умолчанию.\n",
        "3. Постройте график зависимости качества на обучающей и тестовой выборке от максимальной глубины деревьев."
      ]
    },
    {
      "cell_type": "code",
      "source": [
        "results = {'train' : [], 'test' : []}\n",
        "\n",
        "depths = range(1, 30, 2)\n",
        "\n",
        "for depth in depths:\n",
        "    boosting = Boosting(base_model_params = {'max_depth': depth})\n",
        "    boosting.fit(x_train, y_train, x_test, y_test)\n",
        "\n",
        "    results['train'].append(boosting.score(x_train, y_train))\n",
        "    results['test'].append(boosting.score(x_test, y_test))\n",
        "\n",
        "\n",
        "plt.figure(figsize=(20,14))\n",
        "plt.plot(results['train'], label='train')\n",
        "plt.plot(results['test'], label='test')\n",
        "plt.legend()\n",
        "plt.show()"
      ],
      "metadata": {
        "colab": {
          "base_uri": "https://localhost:8080/",
          "height": 786
        },
        "id": "8w7zbUDSoXqW",
        "outputId": "2e840b5b-2088-47dc-a7a9-c11a9130984e"
      },
      "execution_count": 6,
      "outputs": [
        {
          "output_type": "display_data",
          "data": {
            "text/plain": [
              "<Figure size 2000x1400 with 1 Axes>"
            ],
            "image/png": "[encoded data removed]"
          },
          "metadata": {}
        }
      ]
    },
    {
      "cell_type": "markdown",
      "metadata": {
        "pycharm": {
          "name": "#%% md\n"
        },
        "id": "bshz0JV6lWlV"
      },
      "source": [
        "**Какая из моделей имеет лучшее качество? Как вы можете это объяснить?**\n",
        "\n",
        "1 и 2 модели имеют одинаковое качество обучения на тренировочной и тестовой выборках."
      ]
    },
    {
      "cell_type": "markdown",
      "metadata": {
        "id": "8FwaUsmqlWlV"
      },
      "source": [
        "## Задание 3. Подбор гиперпараметров и поиск оптимальной модели [3 балла]\n",
        "\n",
        "Настройте основные гиперпараметры вашей модели градиентного бустинга, используя валидационную выборку. Подберите параметры как для самого бустинга, так и для базовых моделей.\n",
        "\n",
        "**Рекомендации:**\n",
        "- Используйте библиотеки для автоматизированного подбора гиперпараметров, такие как [Hyperopt](https://github.com/hyperopt/hyperopt) или [Optuna](https://optuna.org/).\n",
        "- Подберите все основные параметры, чтобы найти лучшую модель на валидационной выборке."
      ]
    },
    {
      "cell_type": "code",
      "execution_count": 7,
      "metadata": {
        "pycharm": {
          "is_executing": true,
          "name": "#%%\n"
        },
        "id": "rZq0rKpWlWlV"
      },
      "outputs": [],
      "source": [
        "from hyperopt import hp, tpe\n",
        "from hyperopt.fmin import fmin"
      ]
    },
    {
      "cell_type": "code",
      "source": [
        "def hyperopt_score(params):\n",
        "    boosting = Boosting(**params)\n",
        "    boosting.fit(x_train, y_train, x_test, y_test)\n",
        "    score_ = boosting.score(x_valid, y_valid)\n",
        "    print(score_, params)\n",
        "    return -score_"
      ],
      "metadata": {
        "id": "zvp0HfQb6hqP"
      },
      "execution_count": 8,
      "outputs": []
    },
    {
      "cell_type": "code",
      "source": [
        "parameters = {\n",
        "            'base_model_params' : {\n",
        "                'max_depth':  hp.choice('max_depth', np.arange(1, 14, dtype=int)),\n",
        "                'min_samples_leaf': hp.choice('min_samples_leaf', [1, 2, 3, 4, 5]),\n",
        "                'min_samples_split': hp.choice('min_samples_split', [1.0, 3, 4, 5, 10])\n",
        "            },\n",
        "            'n_estimators': hp.choice('n_estimators', range(10, 100)),\n",
        "            'subsample': hp.quniform('subsample', 0.5, 1, 0.05),\n",
        "            'learning_rate': hp.quniform('learning_rate', 0.1, 0.6, 0.05)\n",
        "        }\n",
        "\n",
        "best_ = fmin(fn=hyperopt_score, space=parameters, algo=tpe.suggest, max_evals=10)\n",
        "print('best:')\n",
        "print(best_)"
      ],
      "metadata": {
        "colab": {
          "base_uri": "https://localhost:8080/"
        },
        "id": "YMkI5rvh6nh7",
        "outputId": "a43357a8-d9c5-4d46-a4f8-490c15dd7590"
      },
      "execution_count": 33,
      "outputs": [
        {
          "output_type": "stream",
          "name": "stdout",
          "text": [
            "0.8286507364576066\n",
            "{'base_model_params': {'max_depth': 6, 'min_samples_leaf': 1, 'min_samples_split': 1.0}, 'learning_rate': 0.5, 'n_estimators': 42, 'subsample': 0.55}\n",
            "0.9533947969451213\n",
            "{'base_model_params': {'max_depth': 10, 'min_samples_leaf': 3, 'min_samples_split': 5}, 'learning_rate': 0.5, 'n_estimators': 43, 'subsample': 0.75}\n",
            "0.8209857055160923\n",
            "{'base_model_params': {'max_depth': 7, 'min_samples_leaf': 2, 'min_samples_split': 1.0}, 'learning_rate': 0.30000000000000004, 'n_estimators': 22, 'subsample': 0.6000000000000001}\n",
            "0.8209857055160923\n",
            "{'base_model_params': {'max_depth': 8, 'min_samples_leaf': 5, 'min_samples_split': 1.0}, 'learning_rate': 0.55, 'n_estimators': 19, 'subsample': 0.6000000000000001}\n",
            "0.9582108445908589\n",
            "{'base_model_params': {'max_depth': 10, 'min_samples_leaf': 5, 'min_samples_split': 5}, 'learning_rate': 0.1, 'n_estimators': 13, 'subsample': 0.9500000000000001}\n",
            "0.941919174587923\n",
            "{'base_model_params': {'max_depth': 5, 'min_samples_leaf': 3, 'min_samples_split': 5}, 'learning_rate': 0.2, 'n_estimators': 23, 'subsample': 1.0}\n",
            "0.8988290648151325\n",
            "{'base_model_params': {'max_depth': 2, 'min_samples_leaf': 5, 'min_samples_split': 10}, 'learning_rate': 0.35000000000000003, 'n_estimators': 38, 'subsample': 0.9}\n",
            "0.829851793387705\n",
            "{'base_model_params': {'max_depth': 1, 'min_samples_leaf': 2, 'min_samples_split': 4}, 'learning_rate': 0.15000000000000002, 'n_estimators': 63, 'subsample': 0.6000000000000001}\n",
            "0.8803072418013566\n",
            "{'base_model_params': {'max_depth': 3, 'min_samples_leaf': 3, 'min_samples_split': 10}, 'learning_rate': 0.45, 'n_estimators': 70, 'subsample': 0.7000000000000001}\n",
            "0.9568221940069166\n",
            "{'base_model_params': {'max_depth': 8, 'min_samples_leaf': 4, 'min_samples_split': 5}, 'learning_rate': 0.1, 'n_estimators': 28, 'subsample': 0.6000000000000001}\n",
            "100%|██████████| 10/10 [00:26<00:00,  2.64s/trial, best loss: -0.9582108445908589]\n",
            "best:\n",
            "{'learning_rate': 0.1, 'max_depth': 9, 'min_samples_leaf': 4, 'min_samples_split': 3, 'n_estimators': 3, 'subsample': 0.9500000000000001}\n"
          ]
        }
      ]
    },
    {
      "cell_type": "code",
      "source": [
        "model_best = {\n",
        "      'base_model_params' : {\n",
        "          'max_depth': best_['max_depth'],\n",
        "          'min_samples_leaf': best_['min_samples_leaf'],\n",
        "          'min_samples_split':  best_['min_samples_split']\n",
        "      },\n",
        "      'n_estimators': best_['n_estimators'],\n",
        "      'subsample': best_['subsample'],\n",
        "      'learning_rate': best_['learning_rate']\n",
        "}"
      ],
      "metadata": {
        "id": "42IWfIuk9z0I"
      },
      "execution_count": 34,
      "outputs": []
    },
    {
      "cell_type": "markdown",
      "metadata": {
        "pycharm": {
          "name": "#%% md\n"
        },
        "id": "hGk-Wt_slWlV"
      },
      "source": [
        "## Задание 4. Интерпретация градиентного бустинга [1 балл]\n",
        "\n",
        "Постройте калибровочную кривую для вашей лучшей модели градиентного бустинга и оцените, насколько точно модель предсказывает вероятности.\n",
        "\n",
        "**Инструкция:**\n",
        "1. Постройте калибровочную кривую для лучшей модели градиентного бустинга.\n",
        "2. Постройте аналогичную кривую для логистической регрессии.\n",
        "3. Сравните полученные результаты и проанализируйте, насколько хорошо каждая модель оценивает вероятности."
      ]
    },
    {
      "cell_type": "code",
      "execution_count": 35,
      "metadata": {
        "pycharm": {
          "name": "#%%\n"
        },
        "id": "LdJG4bHClWlV"
      },
      "outputs": [],
      "source": [
        "from sklearn.calibration import calibration_curve\n",
        "from sklearn.linear_model import LogisticRegression"
      ]
    },
    {
      "cell_type": "code",
      "source": [
        "plt.figure(figsize=(7, 7))\n",
        "\n",
        "bst_ = Boosting(**model_best)\n",
        "bst_.fit(x_train, y_train, x_valid, y_valid)\n",
        "bst_pred = bst_.predict_proba(x_test)[:, 1]\n",
        "\n",
        "lr = LogisticRegression(max_iter=100000).fit(x_train, y_train)\n",
        "lr_pred = lr.predict_proba(x_test)[:, 1]\n",
        "\n",
        "bst_true_prob, bst_pred_prob = calibration_curve(y_test, bst_pred, n_bins=15)\n",
        "lr_true_prob, lr_pred_prob = calibration_curve(y_test, lr_pred, n_bins=15)\n",
        "\n",
        "plt.plot(bst_pred_prob, bst_true_prob, label='Boosting', color='blue')\n",
        "plt.plot(lr_pred_prob, lr_true_prob, label='LR', color='orange')\n",
        "plt.plot([0, 1], [0, 1], label='Perfect', linestyle='--', color='green')\n",
        "\n",
        "plt.xlabel('Mean predicted probability')\n",
        "plt.ylabel('Fraction of positives')\n",
        "plt.title('Calibration curves')\n",
        "plt.legend()\n",
        "plt.show()"
      ],
      "metadata": {
        "colab": {
          "base_uri": "https://localhost:8080/",
          "height": 650
        },
        "id": "IBlM4Ypn-epD",
        "outputId": "644ec9dc-56bd-490d-b505-0fca10b134a4"
      },
      "execution_count": 36,
      "outputs": [
        {
          "output_type": "display_data",
          "data": {
            "text/plain": [
              "<Figure size 700x700 with 1 Axes>"
            ],
            "image/png": "[encoded data removed]"
          },
          "metadata": {}
        }
      ]
    },
    {
      "cell_type": "markdown",
      "source": [
        "График логистической регрессии ближе к идеальной калибровочной прямой и заканчивается точно в точке (1.0, 1.0)."
      ],
      "metadata": {
        "id": "e4NfySeHT62a"
      }
    },
    {
      "cell_type": "markdown",
      "metadata": {
        "pycharm": {
          "name": "#%% md\n"
        },
        "id": "8O6bjp2MlWlW"
      },
      "source": [
        "Теперь оценим важность признаков для градиентного бустинга.\n",
        "\n",
        "**Задание:**\n",
        "1. Поскольку базовая модель — дерево из `sklearn`, вычислите важность каждого признака для каждого дерева, используя атрибут `feature_importances_` у `DecisionTreeRegressor`.\n",
        "2. Усредните значения важности по всем деревьям и нормализуйте их так, чтобы сумма была равна единице (убедитесь, что значения неотрицательны).\n",
        "3. Дополните вашу реализацию бустинга, добавив метод `feature_importances_`, который будет возвращать усредненные и нормализованные важности признаков.\n",
        "\n",
        "**Построение графиков:**\n",
        "1. Постройте столбчатую диаграмму важности признаков для градиентного бустинга.\n",
        "2. На соседнем графике изобразите важность признаков для логистической регрессии, используя модули весов.\n",
        "3. Сравните графики и проанализируйте полученные результаты."
      ]
    },
    {
      "cell_type": "code",
      "source": [
        "from __future__ import annotations\n",
        "\n",
        "from collections import defaultdict\n",
        "\n",
        "import numpy as np\n",
        "from sklearn.metrics import roc_auc_score\n",
        "from sklearn.tree import DecisionTreeRegressor\n",
        "\n",
        "class Boosting:\n",
        "    def __init__(\n",
        "        self,\n",
        "        base_model_params: dict = None,\n",
        "        n_estimators: int = 10,\n",
        "        learning_rate: float = 0.1,\n",
        "        subsample: float = 0.3,\n",
        "        early_stopping_rounds: int = None,\n",
        "        plot: bool = False,\n",
        "    ):\n",
        "        self.base_model_class = DecisionTreeRegressor\n",
        "        self.base_model_params: dict = {} if base_model_params is None else base_model_params\n",
        "        self.n_estimators: int = n_estimators\n",
        "\n",
        "        self.models: list = []\n",
        "        self.gammas: list = []\n",
        "\n",
        "        self.learning_rate: float = learning_rate\n",
        "        self.subsample: float = subsample\n",
        "\n",
        "        self.early_stopping_rounds: int = early_stopping_rounds\n",
        "        if early_stopping_rounds is not None:\n",
        "            self.validation_loss = np.full(self.early_stopping_rounds, np.inf)\n",
        "        self.plot: bool = plot\n",
        "        self.history = defaultdict(list)\n",
        "        self.sigmoid = lambda x: 1 / (1 + np.exp(-x))\n",
        "        self.loss_fn = lambda y, z: -np.log(self.sigmoid(y * z)).mean()\n",
        "        self.loss_derivative = lambda y, z: -y * self.sigmoid(-y * z)\n",
        "\n",
        "    def fit_new_base_model(self, x, y, predictions):\n",
        "        bootstrap_indices = np.random.choice(np.arange(x.shape[0]), size=int(self.subsample * x.shape[0]))\n",
        "        x_sample = x[bootstrap_indices]\n",
        "        y_sample = y[bootstrap_indices]\n",
        "        model = self.base_model_class(**self.base_model_params)\n",
        "        model.fit(x_sample, self.loss_derivative(y_sample, predictions[bootstrap_indices]))\n",
        "        gamma = self.find_optimal_gamma(y_sample, predictions[bootstrap_indices], model.predict(x_sample))\n",
        "        self.gammas.append(gamma)\n",
        "        self.models.append(model)\n",
        "    def fit(self, x_train, y_train, x_valid, y_valid):\n",
        "        train_predictions = np.zeros(y_train.shape[0], dtype=float)[:, None]\n",
        "        valid_predictions = np.zeros(y_valid.shape[0], dtype=float)[:, None]\n",
        "        for _ in range(self.n_estimators):\n",
        "            self.fit_new_base_model(x_train, y_train, train_predictions[:, 0])\n",
        "            train_predictions += self.learning_rate * self.models[-1].predict(x_train)[:, None]\n",
        "            valid_predictions += self.learning_rate * self.models[-1].predict(x_valid)[:, None]\n",
        "            train_loss = self.loss_fn(y_train, train_predictions[:, 0])\n",
        "            valid_loss = self.loss_fn(y_valid, valid_predictions[:, 0])\n",
        "            self.history['train_loss'].append(train_loss)\n",
        "            self.history['valid_loss'].append(valid_loss)\n",
        "            if self.early_stopping_rounds is not None:\n",
        "                if len(self.history['valid_loss']) >= self.early_stopping_rounds and \\\n",
        "                        valid_loss > np.min(self.history['valid_loss'][-self.early_stopping_rounds:]):\n",
        "                    break\n",
        "        if self.plot:\n",
        "            import matplotlib.pyplot as plt\n",
        "            plt.plot(range(len(self.history['train_loss'])), self.history['train_loss'], label='Train')\n",
        "            plt.plot(range(len(self.history['valid_loss'])), self.history['valid_loss'], label='Valid')\n",
        "            plt.xlabel('Number of iterations')\n",
        "            plt.ylabel('Loss')\n",
        "            plt.legend()\n",
        "            plt.show()\n",
        "    def predict_proba(self, x):\n",
        "        predictions = np.zeros((x.shape[0], 2), dtype=float)\n",
        "        for model, gamma in zip(self.models, self.gammas):\n",
        "            predictions += gamma * model.predict(x)[:, None]\n",
        "        return self.sigmoid(predictions)\n",
        "    def find_optimal_gamma(self, y, old_predictions, new_predictions) -> float:\n",
        "        gammas = np.linspace(start=-1, stop=1, num=100)\n",
        "        losses = [self.loss_fn(y, old_predictions + gamma * new_predictions) for gamma in gammas]\n",
        "        return gammas[np.argmin(losses)]\n",
        "    def score(self, x, y):\n",
        "        return roc_auc_score(y, self.predict_proba(x)[:, 1])\n",
        "    @property\n",
        "    def feature_importances_(self):\n",
        "        importances = np.zeros(self.models[0].feature_importances_.shape)\n",
        "        for gamma, model in zip(self.gammas, self.models):\n",
        "            importances += gamma * model.feature_importances_\n",
        "        importances /= np.sum(importances)\n",
        "        return importances"
      ],
      "metadata": {
        "id": "XmaICPQcJ46N"
      },
      "execution_count": 66,
      "outputs": []
    },
    {
      "cell_type": "code",
      "execution_count": 38,
      "metadata": {
        "pycharm": {
          "name": "#%%\n"
        },
        "id": "y0JNgBk_lWlW",
        "colab": {
          "base_uri": "https://localhost:8080/",
          "height": 507
        },
        "outputId": "881476de-8c23-4df4-bf4a-8730ae966f32"
      },
      "outputs": [
        {
          "output_type": "display_data",
          "data": {
            "text/plain": [
              "<Figure size 2400x1000 with 2 Axes>"
            ],
            "image/png": "[encoded data removed]"
          },
          "metadata": {}
        }
      ],
      "source": [
        "bst_ = Boosting(**model_best)\n",
        "bst_.fit(x_train, y_train, x_valid, y_valid)  # Обучаем  модель\n",
        "\n",
        "fig, ax = plt.subplots(1, 2, figsize=(24, 10))\n",
        "\n",
        "ax[0].bar(np.arange(x_train.shape[1]), bst_.feature_importances_, color='green')\n",
        "ax[0].set_xlabel('признаки')\n",
        "ax[0].set_ylabel('важность')\n",
        "ax[0].set_title('бустинг')\n",
        "\n",
        "ax[1].bar(np.arange(x_train.shape[1]), abs(lr.coef_[0]), color='green')\n",
        "ax[1].set_xlabel('признаки')\n",
        "ax[1].set_ylabel('важность')\n",
        "ax[1].set_title('логистическая регрессия')\n",
        "\n",
        "plt.show()"
      ]
    },
    {
      "cell_type": "markdown",
      "source": [
        "Анализ результатов:\n",
        "\n",
        "Градиентный бустинг:  \n",
        "\n",
        "На графике видно, что у градиентного бустинга всего несколько важных признаков, и один из них имеет очень большое значение. Это говорит о том, что модель нашла сильную зависимость между этим признаком и целевой переменной.\n",
        "\n",
        "Логистическая регрессия:\n",
        "\n",
        "У логистической регрессии много важных признаков, причем их важность более равномерно распределена. Это может говорить о том, что модель нашла менее выраженные зависимости между различными признаками и целевой переменной.\n",
        "\n",
        "Что это значит?\n",
        "\n",
        "Градиентный бустинг более склонен фокусироваться на ключевых признаках, которые имеют сильную корреляцию с целевой переменной. Он может быть более эффективным при наличии нелинейных зависимостей в данных.\n",
        "\n",
        "Логистическая регрессия учитывает все признаки, но не так сильно выделяет отдельные признаки. Она лучше подходит для линейных моделей и для данных с меньшим количеством нелинейных зависимостей.\n",
        "\n",
        "Вывод:\n",
        "\n",
        "Разница в важности признаков у градиентного бустинга и логистической регрессии отражает различие в способностях моделей улавливать зависимости в данных. Градиентный бустинг более гибкий и может более эффективно использовать сильные зависимости, в то время как логистическая регрессия более устойчива к шуму в данных."
      ],
      "metadata": {
        "id": "O_OB6JwqV8Hj"
      }
    },
    {
      "cell_type": "markdown",
      "metadata": {
        "pycharm": {
          "name": "#%% md\n"
        },
        "id": "xheSi2IolWlW"
      },
      "source": [
        "Обычно избыточные признаки могут негативно влиять на качество бустинга. Попробуйте следующее:\n",
        "\n",
        "1. **Отфильтруйте неважные признаки:** Используйте построенную диаграмму важности признаков, чтобы отобрать наиболее незначительные признаки.\n",
        "2. **Обучите модель повторно:** Обучите модель на основе оставшихся признаков с теми же гиперпараметрами.\n",
        "3. **Оцените качество модели:** Сравните результаты новой модели с исходной. Улучшилось ли качество после отфильтровывания незначительных признаков?"
      ]
    },
    {
      "cell_type": "code",
      "execution_count": 39,
      "metadata": {
        "pycharm": {
          "name": "#%%\n"
        },
        "id": "Rw9W9MEYlWlW",
        "colab": {
          "base_uri": "https://localhost:8080/"
        },
        "outputId": "6430d44b-6620-4532-ef5c-89d9bf72a6d5"
      },
      "outputs": [
        {
          "output_type": "stream",
          "name": "stdout",
          "text": [
            "score with all features: 0.9541638546682986\n"
          ]
        }
      ],
      "source": [
        "boosting = Boosting(**model_best)\n",
        "boosting.fit(x_train, y_train, x_test, y_test)\n",
        "print('score with all features:', boosting.score(x_valid, y_valid))"
      ]
    },
    {
      "cell_type": "code",
      "source": [
        "inds_ = []\n",
        "for i in range(len(boosting.feature_importances_)):\n",
        "  if boosting.feature_importances_[i] > 0.01:\n",
        "    inds_.append(i)"
      ],
      "metadata": {
        "id": "aQPNWq2jOlxw"
      },
      "execution_count": 40,
      "outputs": []
    },
    {
      "cell_type": "code",
      "source": [
        "boosting2 = Boosting(**model_best)\n",
        "boosting2.fit(x_train[:, inds_], y_train, x_valid[:, inds_], y_valid)\n",
        "print(boosting2.score(x_test[:, inds_], y_test))"
      ],
      "metadata": {
        "colab": {
          "base_uri": "https://localhost:8080/"
        },
        "id": "7Rz-krZlOpPW",
        "outputId": "3fd96a61-a88b-4541-b9b3-68a737ced243"
      },
      "execution_count": 41,
      "outputs": [
        {
          "output_type": "stream",
          "name": "stdout",
          "text": [
            "0.9453239792222844\n"
          ]
        }
      ]
    },
    {
      "cell_type": "code",
      "source": [
        "inds_ = []\n",
        "for i in range(len(boosting.feature_importances_)):\n",
        "  if boosting.feature_importances_[i] > 0.005:\n",
        "    inds_.append(i)"
      ],
      "metadata": {
        "id": "YicNWKsVOtWF"
      },
      "execution_count": 56,
      "outputs": []
    },
    {
      "cell_type": "code",
      "source": [
        "boosting2 = Boosting(**model_best)\n",
        "boosting2.fit(x_train[:, inds_], y_train, x_valid[:, inds_], y_valid)\n",
        "print(boosting2.score(x_test[:, inds_], y_test))"
      ],
      "metadata": {
        "colab": {
          "base_uri": "https://localhost:8080/"
        },
        "id": "IWrxmZFNOxy7",
        "outputId": "f300fee6-937e-4110-fc9f-a028aaf97fe3"
      },
      "execution_count": 57,
      "outputs": [
        {
          "output_type": "stream",
          "name": "stdout",
          "text": [
            "0.9459125909582232\n"
          ]
        }
      ]
    },
    {
      "cell_type": "code",
      "source": [
        "inds_ = []\n",
        "for i in range(len(boosting.feature_importances_)):\n",
        "  if boosting.feature_importances_[i] > 0.001:\n",
        "    inds_.append(i)"
      ],
      "metadata": {
        "id": "diKoUz0rO2Qp"
      },
      "execution_count": 53,
      "outputs": []
    },
    {
      "cell_type": "code",
      "source": [
        "boosting2 = Boosting(**model_best)\n",
        "boosting2.fit(x_train[:, inds_], y_train, x_valid[:, inds_], y_valid)\n",
        "print(boosting2.score(x_test[:, inds_], y_test))"
      ],
      "metadata": {
        "colab": {
          "base_uri": "https://localhost:8080/"
        },
        "id": "VDrsZk5sO6jQ",
        "outputId": "d89ebf66-7905-4d5a-8946-d28330da40d1"
      },
      "execution_count": 54,
      "outputs": [
        {
          "output_type": "stream",
          "name": "stdout",
          "text": [
            "0.9478224947586097\n"
          ]
        }
      ]
    },
    {
      "cell_type": "code",
      "source": [
        "inds_ = []\n",
        "for i in range(len(boosting.feature_importances_)):\n",
        "  if boosting.feature_importances_[i] > 0.0005:\n",
        "    inds_.append(i)"
      ],
      "metadata": {
        "id": "oNhy2I-yPn12"
      },
      "execution_count": 58,
      "outputs": []
    },
    {
      "cell_type": "code",
      "source": [
        "boosting2 = Boosting(**model_best)\n",
        "boosting2.fit(x_train[:, inds_], y_train, x_valid[:, inds_], y_valid)\n",
        "print(boosting2.score(x_test[:, inds_], y_test))"
      ],
      "metadata": {
        "colab": {
          "base_uri": "https://localhost:8080/"
        },
        "id": "HXh0iKZ4Pqqe",
        "outputId": "d15f5469-f64e-4016-e9fd-09577b29195f"
      },
      "execution_count": 59,
      "outputs": [
        {
          "output_type": "stream",
          "name": "stdout",
          "text": [
            "0.9515002236645\n"
          ]
        }
      ]
    },
    {
      "cell_type": "markdown",
      "source": [
        "Качество модели не изменилось."
      ],
      "metadata": {
        "id": "yQBNRP3YPu89"
      }
    },
    {
      "cell_type": "markdown",
      "metadata": {
        "pycharm": {
          "name": "#%% md\n"
        },
        "id": "pH3489RklWlW"
      },
      "source": [
        "## Задание 5 (бонус). Блендинговое [0.5 балла]\n",
        "\n",
        "Реализуйте блендинг над вашей лучшей моделью и логистической регрессией. Улучшилось ли качество?"
      ]
    },
    {
      "cell_type": "code",
      "execution_count": 61,
      "metadata": {
        "pycharm": {
          "name": "#%%\n"
        },
        "id": "FWcDMMVilWlW",
        "colab": {
          "base_uri": "https://localhost:8080/"
        },
        "outputId": "2c6a60f8-f24e-46b6-b947-0e06944a172d"
      },
      "outputs": [
        {
          "output_type": "stream",
          "name": "stdout",
          "text": [
            "0.8777653608162084\n"
          ]
        }
      ],
      "source": [
        "meta_X = list()\n",
        "boosting = Boosting(**model_best)\n",
        "boosting.fit(x_train, y_train, x_valid, y_valid)\n",
        "\n",
        "yhat = boosting.predict_proba(x_valid)[:, 1]\n",
        "yhat = yhat.reshape(len(yhat), 1)\n",
        "meta_X.append(yhat)\n",
        "\n",
        "meta_X = np.hstack(meta_X)\n",
        "\n",
        "blender = LogisticRegression()\n",
        "blender.fit(meta_X, y_valid)\n",
        "\n",
        "meta_X = list()\n",
        "yhat = boosting.predict_proba(x_test)[:, 1]\n",
        "yhat = yhat.reshape(len(yhat), 1)\n",
        "meta_X.append(yhat)\n",
        "meta_X = np.hstack(meta_X)\n",
        "res_pred = blender.predict(meta_X)\n",
        "\n",
        "score = roc_auc_score(y_test, res_pred)\n",
        "\n",
        "print(score)"
      ]
    },
    {
      "cell_type": "markdown",
      "source": [
        "Качество модели ниже, чем было до этого."
      ],
      "metadata": {
        "id": "Y5uPTMEoSkzo"
      }
    },
    {
      "cell_type": "markdown",
      "metadata": {
        "collapsed": false,
        "pycharm": {
          "name": "#%% md\n"
        },
        "id": "eEF0yJ4vlWlX"
      },
      "source": [
        "## Задание 6 (бонус). Катбустовое [0.5 балла]\n",
        "\n",
        "Запустите [CatBoost](https://catboost.ai/en/docs/concepts/python-quickstart) на наших данных, сравните с вашей реализацией. Где получилось лучше?"
      ]
    },
    {
      "cell_type": "code",
      "execution_count": 62,
      "metadata": {
        "pycharm": {
          "name": "#%%\n"
        },
        "id": "0lYGhc_clWlX",
        "colab": {
          "base_uri": "https://localhost:8080/"
        },
        "outputId": "bac69f67-c895-4ac5-e7f8-7accee6262aa"
      },
      "outputs": [
        {
          "output_type": "stream",
          "name": "stdout",
          "text": [
            "Collecting catboost\n",
            "  Downloading catboost-1.2.5-cp310-cp310-manylinux2014_x86_64.whl (98.2 MB)\n",
            "\u001b[2K     \u001b[90m━━━━━━━━━━━━━━━━━━━━━━━━━━━━━━━━━━━━━━━━\u001b[0m \u001b[32m98.2/98.2 MB\u001b[0m \u001b[31m2.3 MB/s\u001b[0m eta \u001b[36m0:00:00\u001b[0m\n",
            "\u001b[?25hRequirement already satisfied: graphviz in /usr/local/lib/python3.10/dist-packages (from catboost) (0.20.3)\n",
            "Requirement already satisfied: matplotlib in /usr/local/lib/python3.10/dist-packages (from catboost) (3.7.1)\n",
            "Requirement already satisfied: numpy>=1.16.0 in /usr/local/lib/python3.10/dist-packages (from catboost) (1.25.2)\n",
            "Requirement already satisfied: pandas>=0.24 in /usr/local/lib/python3.10/dist-packages (from catboost) (2.0.3)\n",
            "Requirement already satisfied: scipy in /usr/local/lib/python3.10/dist-packages (from catboost) (1.11.4)\n",
            "Requirement already satisfied: plotly in /usr/local/lib/python3.10/dist-packages (from catboost) (5.15.0)\n",
            "Requirement already satisfied: six in /usr/local/lib/python3.10/dist-packages (from catboost) (1.16.0)\n",
            "Requirement already satisfied: python-dateutil>=2.8.2 in /usr/local/lib/python3.10/dist-packages (from pandas>=0.24->catboost) (2.8.2)\n",
            "Requirement already satisfied: pytz>=2020.1 in /usr/local/lib/python3.10/dist-packages (from pandas>=0.24->catboost) (2023.4)\n",
            "Requirement already satisfied: tzdata>=2022.1 in /usr/local/lib/python3.10/dist-packages (from pandas>=0.24->catboost) (2024.1)\n",
            "Requirement already satisfied: contourpy>=1.0.1 in /usr/local/lib/python3.10/dist-packages (from matplotlib->catboost) (1.2.1)\n",
            "Requirement already satisfied: cycler>=0.10 in /usr/local/lib/python3.10/dist-packages (from matplotlib->catboost) (0.12.1)\n",
            "Requirement already satisfied: fonttools>=4.22.0 in /usr/local/lib/python3.10/dist-packages (from matplotlib->catboost) (4.51.0)\n",
            "Requirement already satisfied: kiwisolver>=1.0.1 in /usr/local/lib/python3.10/dist-packages (from matplotlib->catboost) (1.4.5)\n",
            "Requirement already satisfied: packaging>=20.0 in /usr/local/lib/python3.10/dist-packages (from matplotlib->catboost) (24.0)\n",
            "Requirement already satisfied: pillow>=6.2.0 in /usr/local/lib/python3.10/dist-packages (from matplotlib->catboost) (9.4.0)\n",
            "Requirement already satisfied: pyparsing>=2.3.1 in /usr/local/lib/python3.10/dist-packages (from matplotlib->catboost) (3.1.2)\n",
            "Requirement already satisfied: tenacity>=6.2.0 in /usr/local/lib/python3.10/dist-packages (from plotly->catboost) (8.3.0)\n",
            "Installing collected packages: catboost\n",
            "Successfully installed catboost-1.2.5\n"
          ]
        }
      ],
      "source": [
        "pip install catboost"
      ]
    },
    {
      "cell_type": "code",
      "source": [
        "pip install ipywidgets"
      ],
      "metadata": {
        "colab": {
          "base_uri": "https://localhost:8080/"
        },
        "id": "DMjEZdgxTArp",
        "outputId": "bfedc2d6-9104-4b8e-9d53-81d55394bc79"
      },
      "execution_count": 63,
      "outputs": [
        {
          "output_type": "stream",
          "name": "stdout",
          "text": [
            "Requirement already satisfied: ipywidgets in /usr/local/lib/python3.10/dist-packages (7.7.1)\n",
            "Requirement already satisfied: ipykernel>=4.5.1 in /usr/local/lib/python3.10/dist-packages (from ipywidgets) (5.5.6)\n",
            "Requirement already satisfied: ipython-genutils~=0.2.0 in /usr/local/lib/python3.10/dist-packages (from ipywidgets) (0.2.0)\n",
            "Requirement already satisfied: traitlets>=4.3.1 in /usr/local/lib/python3.10/dist-packages (from ipywidgets) (5.7.1)\n",
            "Requirement already satisfied: widgetsnbextension~=3.6.0 in /usr/local/lib/python3.10/dist-packages (from ipywidgets) (3.6.6)\n",
            "Requirement already satisfied: ipython>=4.0.0 in /usr/local/lib/python3.10/dist-packages (from ipywidgets) (7.34.0)\n",
            "Requirement already satisfied: jupyterlab-widgets>=1.0.0 in /usr/local/lib/python3.10/dist-packages (from ipywidgets) (3.0.10)\n",
            "Requirement already satisfied: jupyter-client in /usr/local/lib/python3.10/dist-packages (from ipykernel>=4.5.1->ipywidgets) (6.1.12)\n",
            "Requirement already satisfied: tornado>=4.2 in /usr/local/lib/python3.10/dist-packages (from ipykernel>=4.5.1->ipywidgets) (6.3.3)\n",
            "Requirement already satisfied: setuptools>=18.5 in /usr/local/lib/python3.10/dist-packages (from ipython>=4.0.0->ipywidgets) (67.7.2)\n",
            "Collecting jedi>=0.16 (from ipython>=4.0.0->ipywidgets)\n",
            "  Downloading jedi-0.19.1-py2.py3-none-any.whl (1.6 MB)\n",
            "\u001b[2K     \u001b[90m━━━━━━━━━━━━━━━━━━━━━━━━━━━━━━━━━━━━━━━━\u001b[0m \u001b[32m1.6/1.6 MB\u001b[0m \u001b[31m24.7 MB/s\u001b[0m eta \u001b[36m0:00:00\u001b[0m\n",
            "\u001b[?25hRequirement already satisfied: decorator in /usr/local/lib/python3.10/dist-packages (from ipython>=4.0.0->ipywidgets) (4.4.2)\n",
            "Requirement already satisfied: pickleshare in /usr/local/lib/python3.10/dist-packages (from ipython>=4.0.0->ipywidgets) (0.7.5)\n",
            "Requirement already satisfied: prompt-toolkit!=3.0.0,!=3.0.1,<3.1.0,>=2.0.0 in /usr/local/lib/python3.10/dist-packages (from ipython>=4.0.0->ipywidgets) (3.0.43)\n",
            "Requirement already satisfied: pygments in /usr/local/lib/python3.10/dist-packages (from ipython>=4.0.0->ipywidgets) (2.16.1)\n",
            "Requirement already satisfied: backcall in /usr/local/lib/python3.10/dist-packages (from ipython>=4.0.0->ipywidgets) (0.2.0)\n",
            "Requirement already satisfied: matplotlib-inline in /usr/local/lib/python3.10/dist-packages (from ipython>=4.0.0->ipywidgets) (0.1.7)\n",
            "Requirement already satisfied: pexpect>4.3 in /usr/local/lib/python3.10/dist-packages (from ipython>=4.0.0->ipywidgets) (4.9.0)\n",
            "Requirement already satisfied: notebook>=4.4.1 in /usr/local/lib/python3.10/dist-packages (from widgetsnbextension~=3.6.0->ipywidgets) (6.5.5)\n",
            "Requirement already satisfied: parso<0.9.0,>=0.8.3 in /usr/local/lib/python3.10/dist-packages (from jedi>=0.16->ipython>=4.0.0->ipywidgets) (0.8.4)\n",
            "Requirement already satisfied: jinja2 in /usr/local/lib/python3.10/dist-packages (from notebook>=4.4.1->widgetsnbextension~=3.6.0->ipywidgets) (3.1.4)\n",
            "Requirement already satisfied: pyzmq<25,>=17 in /usr/local/lib/python3.10/dist-packages (from notebook>=4.4.1->widgetsnbextension~=3.6.0->ipywidgets) (24.0.1)\n",
            "Requirement already satisfied: argon2-cffi in /usr/local/lib/python3.10/dist-packages (from notebook>=4.4.1->widgetsnbextension~=3.6.0->ipywidgets) (23.1.0)\n",
            "Requirement already satisfied: jupyter-core>=4.6.1 in /usr/local/lib/python3.10/dist-packages (from notebook>=4.4.1->widgetsnbextension~=3.6.0->ipywidgets) (5.7.2)\n",
            "Requirement already satisfied: nbformat in /usr/local/lib/python3.10/dist-packages (from notebook>=4.4.1->widgetsnbextension~=3.6.0->ipywidgets) (5.10.4)\n",
            "Requirement already satisfied: nbconvert>=5 in /usr/local/lib/python3.10/dist-packages (from notebook>=4.4.1->widgetsnbextension~=3.6.0->ipywidgets) (6.5.4)\n",
            "Requirement already satisfied: nest-asyncio>=1.5 in /usr/local/lib/python3.10/dist-packages (from notebook>=4.4.1->widgetsnbextension~=3.6.0->ipywidgets) (1.6.0)\n",
            "Requirement already satisfied: Send2Trash>=1.8.0 in /usr/local/lib/python3.10/dist-packages (from notebook>=4.4.1->widgetsnbextension~=3.6.0->ipywidgets) (1.8.3)\n",
            "Requirement already satisfied: terminado>=0.8.3 in /usr/local/lib/python3.10/dist-packages (from notebook>=4.4.1->widgetsnbextension~=3.6.0->ipywidgets) (0.18.1)\n",
            "Requirement already satisfied: prometheus-client in /usr/local/lib/python3.10/dist-packages (from notebook>=4.4.1->widgetsnbextension~=3.6.0->ipywidgets) (0.20.0)\n",
            "Requirement already satisfied: nbclassic>=0.4.7 in /usr/local/lib/python3.10/dist-packages (from notebook>=4.4.1->widgetsnbextension~=3.6.0->ipywidgets) (1.0.0)\n",
            "Requirement already satisfied: python-dateutil>=2.1 in /usr/local/lib/python3.10/dist-packages (from jupyter-client->ipykernel>=4.5.1->ipywidgets) (2.8.2)\n",
            "Requirement already satisfied: ptyprocess>=0.5 in /usr/local/lib/python3.10/dist-packages (from pexpect>4.3->ipython>=4.0.0->ipywidgets) (0.7.0)\n",
            "Requirement already satisfied: wcwidth in /usr/local/lib/python3.10/dist-packages (from prompt-toolkit!=3.0.0,!=3.0.1,<3.1.0,>=2.0.0->ipython>=4.0.0->ipywidgets) (0.2.13)\n",
            "Requirement already satisfied: platformdirs>=2.5 in /usr/local/lib/python3.10/dist-packages (from jupyter-core>=4.6.1->notebook>=4.4.1->widgetsnbextension~=3.6.0->ipywidgets) (4.2.2)\n",
            "Requirement already satisfied: jupyter-server>=1.8 in /usr/local/lib/python3.10/dist-packages (from nbclassic>=0.4.7->notebook>=4.4.1->widgetsnbextension~=3.6.0->ipywidgets) (1.24.0)\n",
            "Requirement already satisfied: notebook-shim>=0.2.3 in /usr/local/lib/python3.10/dist-packages (from nbclassic>=0.4.7->notebook>=4.4.1->widgetsnbextension~=3.6.0->ipywidgets) (0.2.4)\n",
            "Requirement already satisfied: lxml in /usr/local/lib/python3.10/dist-packages (from nbconvert>=5->notebook>=4.4.1->widgetsnbextension~=3.6.0->ipywidgets) (4.9.4)\n",
            "Requirement already satisfied: beautifulsoup4 in /usr/local/lib/python3.10/dist-packages (from nbconvert>=5->notebook>=4.4.1->widgetsnbextension~=3.6.0->ipywidgets) (4.12.3)\n",
            "Requirement already satisfied: bleach in /usr/local/lib/python3.10/dist-packages (from nbconvert>=5->notebook>=4.4.1->widgetsnbextension~=3.6.0->ipywidgets) (6.1.0)\n",
            "Requirement already satisfied: defusedxml in /usr/local/lib/python3.10/dist-packages (from nbconvert>=5->notebook>=4.4.1->widgetsnbextension~=3.6.0->ipywidgets) (0.7.1)\n",
            "Requirement already satisfied: entrypoints>=0.2.2 in /usr/local/lib/python3.10/dist-packages (from nbconvert>=5->notebook>=4.4.1->widgetsnbextension~=3.6.0->ipywidgets) (0.4)\n",
            "Requirement already satisfied: jupyterlab-pygments in /usr/local/lib/python3.10/dist-packages (from nbconvert>=5->notebook>=4.4.1->widgetsnbextension~=3.6.0->ipywidgets) (0.3.0)\n",
            "Requirement already satisfied: MarkupSafe>=2.0 in /usr/local/lib/python3.10/dist-packages (from nbconvert>=5->notebook>=4.4.1->widgetsnbextension~=3.6.0->ipywidgets) (2.1.5)\n",
            "Requirement already satisfied: mistune<2,>=0.8.1 in /usr/local/lib/python3.10/dist-packages (from nbconvert>=5->notebook>=4.4.1->widgetsnbextension~=3.6.0->ipywidgets) (0.8.4)\n",
            "Requirement already satisfied: nbclient>=0.5.0 in /usr/local/lib/python3.10/dist-packages (from nbconvert>=5->notebook>=4.4.1->widgetsnbextension~=3.6.0->ipywidgets) (0.10.0)\n",
            "Requirement already satisfied: packaging in /usr/local/lib/python3.10/dist-packages (from nbconvert>=5->notebook>=4.4.1->widgetsnbextension~=3.6.0->ipywidgets) (24.0)\n",
            "Requirement already satisfied: pandocfilters>=1.4.1 in /usr/local/lib/python3.10/dist-packages (from nbconvert>=5->notebook>=4.4.1->widgetsnbextension~=3.6.0->ipywidgets) (1.5.1)\n",
            "Requirement already satisfied: tinycss2 in /usr/local/lib/python3.10/dist-packages (from nbconvert>=5->notebook>=4.4.1->widgetsnbextension~=3.6.0->ipywidgets) (1.3.0)\n",
            "Requirement already satisfied: fastjsonschema>=2.15 in /usr/local/lib/python3.10/dist-packages (from nbformat->notebook>=4.4.1->widgetsnbextension~=3.6.0->ipywidgets) (2.19.1)\n",
            "Requirement already satisfied: jsonschema>=2.6 in /usr/local/lib/python3.10/dist-packages (from nbformat->notebook>=4.4.1->widgetsnbextension~=3.6.0->ipywidgets) (4.19.2)\n",
            "Requirement already satisfied: six>=1.5 in /usr/local/lib/python3.10/dist-packages (from python-dateutil>=2.1->jupyter-client->ipykernel>=4.5.1->ipywidgets) (1.16.0)\n",
            "Requirement already satisfied: argon2-cffi-bindings in /usr/local/lib/python3.10/dist-packages (from argon2-cffi->notebook>=4.4.1->widgetsnbextension~=3.6.0->ipywidgets) (21.2.0)\n",
            "Requirement already satisfied: attrs>=22.2.0 in /usr/local/lib/python3.10/dist-packages (from jsonschema>=2.6->nbformat->notebook>=4.4.1->widgetsnbextension~=3.6.0->ipywidgets) (23.2.0)\n",
            "Requirement already satisfied: jsonschema-specifications>=2023.03.6 in /usr/local/lib/python3.10/dist-packages (from jsonschema>=2.6->nbformat->notebook>=4.4.1->widgetsnbextension~=3.6.0->ipywidgets) (2023.12.1)\n",
            "Requirement already satisfied: referencing>=0.28.4 in /usr/local/lib/python3.10/dist-packages (from jsonschema>=2.6->nbformat->notebook>=4.4.1->widgetsnbextension~=3.6.0->ipywidgets) (0.35.1)\n",
            "Requirement already satisfied: rpds-py>=0.7.1 in /usr/local/lib/python3.10/dist-packages (from jsonschema>=2.6->nbformat->notebook>=4.4.1->widgetsnbextension~=3.6.0->ipywidgets) (0.18.1)\n",
            "Requirement already satisfied: anyio<4,>=3.1.0 in /usr/local/lib/python3.10/dist-packages (from jupyter-server>=1.8->nbclassic>=0.4.7->notebook>=4.4.1->widgetsnbextension~=3.6.0->ipywidgets) (3.7.1)\n",
            "Requirement already satisfied: websocket-client in /usr/local/lib/python3.10/dist-packages (from jupyter-server>=1.8->nbclassic>=0.4.7->notebook>=4.4.1->widgetsnbextension~=3.6.0->ipywidgets) (1.8.0)\n",
            "Requirement already satisfied: cffi>=1.0.1 in /usr/local/lib/python3.10/dist-packages (from argon2-cffi-bindings->argon2-cffi->notebook>=4.4.1->widgetsnbextension~=3.6.0->ipywidgets) (1.16.0)\n",
            "Requirement already satisfied: soupsieve>1.2 in /usr/local/lib/python3.10/dist-packages (from beautifulsoup4->nbconvert>=5->notebook>=4.4.1->widgetsnbextension~=3.6.0->ipywidgets) (2.5)\n",
            "Requirement already satisfied: webencodings in /usr/local/lib/python3.10/dist-packages (from bleach->nbconvert>=5->notebook>=4.4.1->widgetsnbextension~=3.6.0->ipywidgets) (0.5.1)\n",
            "Requirement already satisfied: idna>=2.8 in /usr/local/lib/python3.10/dist-packages (from anyio<4,>=3.1.0->jupyter-server>=1.8->nbclassic>=0.4.7->notebook>=4.4.1->widgetsnbextension~=3.6.0->ipywidgets) (3.7)\n",
            "Requirement already satisfied: sniffio>=1.1 in /usr/local/lib/python3.10/dist-packages (from anyio<4,>=3.1.0->jupyter-server>=1.8->nbclassic>=0.4.7->notebook>=4.4.1->widgetsnbextension~=3.6.0->ipywidgets) (1.3.1)\n",
            "Requirement already satisfied: exceptiongroup in /usr/local/lib/python3.10/dist-packages (from anyio<4,>=3.1.0->jupyter-server>=1.8->nbclassic>=0.4.7->notebook>=4.4.1->widgetsnbextension~=3.6.0->ipywidgets) (1.2.1)\n",
            "Requirement already satisfied: pycparser in /usr/local/lib/python3.10/dist-packages (from cffi>=1.0.1->argon2-cffi-bindings->argon2-cffi->notebook>=4.4.1->widgetsnbextension~=3.6.0->ipywidgets) (2.22)\n",
            "Installing collected packages: jedi\n",
            "Successfully installed jedi-0.19.1\n"
          ]
        }
      ]
    },
    {
      "cell_type": "code",
      "source": [
        "from catboost import CatBoost, Pool, CatBoostClassifier\n",
        "from sklearn.metrics import roc_auc_score"
      ],
      "metadata": {
        "id": "bUOS3cx8TEf3"
      },
      "execution_count": 64,
      "outputs": []
    },
    {
      "cell_type": "code",
      "source": [
        "train_data = x_train\n",
        "\n",
        "train_labels = y_train\n",
        "\n",
        "test_data = catboost_pool = Pool(x_test,\n",
        "                                 y_test)\n",
        "\n",
        "model = CatBoostClassifier(iterations=2,\n",
        "                           max_depth=best_['max_depth'],\n",
        "                           learning_rate=best_['learning_rate'],\n",
        "                           subsample=best_['subsample'])\n",
        "\n",
        "model.fit(train_data, train_labels)\n",
        "preds_class = model.predict(test_data)\n",
        "\n",
        "print('score with CatBoostClassifier: ', roc_auc_score(preds_class, y_test))"
      ],
      "metadata": {
        "colab": {
          "base_uri": "https://localhost:8080/"
        },
        "id": "QwavRmGwTIvK",
        "outputId": "8cc8dde2-a75e-4a05-ec59-98add82af7f0"
      },
      "execution_count": 65,
      "outputs": [
        {
          "output_type": "stream",
          "name": "stdout",
          "text": [
            "0:\tlearn: 0.5794990\ttotal: 65.3ms\tremaining: 65.3ms\n",
            "1:\tlearn: 0.5043446\ttotal: 80.5ms\tremaining: 0us\n",
            "score with CatBoostClassifier:  0.8520099786172488\n"
          ]
        }
      ]
    },
    {
      "cell_type": "markdown",
      "source": [
        "Качество модели, реализованной с помощью catboost, еще немного снизилось(0.85). Качество моей реализации получилось намного лучше (0.95)."
      ],
      "metadata": {
        "id": "MflTfpjxTUS8"
      }
    },
    {
      "cell_type": "markdown",
      "source": [
        "Оставьте пожалуйста отзыв о курсе!\n",
        "\n",
        "https://forms.gle/LajA3Xrps6u96Q5A8\n",
        "\n",
        "\n",
        "Это очень важно. Благодаря обратной связи мы будем двигаться в сторону антиградиента)\n"
      ],
      "metadata": {
        "id": "EqHzTXCllZO8"
      }
    }
  ],
  "metadata": {
    "kernelspec": {
      "display_name": "Python 3",
      "name": "python3"
    },
    "language_info": {
      "codemirror_mode": {
        "name": "ipython",
        "version": 3
      },
      "file_extension": ".py",
      "mimetype": "text/x-python",
      "name": "python",
      "nbconvert_exporter": "python",
      "pygments_lexer": "ipython3",
      "version": "3.9.7"
    },
    "nbTranslate": {
      "displayLangs": [
        "*"
      ],
      "hotkey": "alt-t",
      "langInMainMenu": true,
      "sourceLang": "en",
      "targetLang": "fr",
      "useGoogleTranslate": true
    },
    "toc": {
      "base_numbering": 1,
      "nav_menu": {
        "height": "210px",
        "width": "492px"
      },
      "number_sections": false,
      "sideBar": true,
      "skip_h1_title": false,
      "title_cell": "Table of Contents",
      "title_sidebar": "Contents",
      "toc_cell": false,
      "toc_position": {},
      "toc_section_display": true,
      "toc_window_display": true
    },
    "varInspector": {
      "cols": {
        "lenName": 16,
        "lenType": 16,
        "lenVar": 40
      },
      "kernels_config": {
        "python": {
          "delete_cmd_postfix": "",
          "delete_cmd_prefix": "del ",
          "library": "var_list.py",
          "varRefreshCmd": "print(var_dic_list())"
        },
        "r": {
          "delete_cmd_postfix": ") ",
          "delete_cmd_prefix": "rm(",
          "library": "var_list.r",
          "varRefreshCmd": "cat(var_dic_list()) "
        }
      },
      "types_to_exclude": [
        "module",
        "function",
        "builtin_function_or_method",
        "instance",
        "_Feature"
      ],
      "window_display": false
    },
    "colab": {
      "provenance": []
    }
  },
  "nbformat": 4,
  "nbformat_minor": 0
}